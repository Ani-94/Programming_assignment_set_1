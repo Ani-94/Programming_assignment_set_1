{
 "cells": [
  {
   "cell_type": "code",
   "execution_count": 13,
   "id": "d0ec06bb",
   "metadata": {},
   "outputs": [
    {
     "name": "stdout",
     "output_type": "stream",
     "text": [
      "Hello Python\n",
      "2\n",
      "5\n",
      "Sum= 7.0\n",
      "Division 0.4\n",
      "6\n",
      "9\n",
      "Area of triangle =  27.0\n",
      "8\n",
      "7\n",
      "Number before sawpping a =  8.0 b= 7.0\n",
      "Number after sawpping a =  7.0 b= 8.0\n",
      "2\n",
      "58\n",
      "random_number =  13\n"
     ]
    }
   ],
   "source": [
    "#1. Write a Python program to print \"Hello Python\"?\n",
    "#Answer:\n",
    "\n",
    "a = print(\"Hello Python\")\n",
    "\n",
    "#2. Write a Python program to do arithmetical operations addition and division.?\n",
    "#Answer:\n",
    "\n",
    "a = float(input())\n",
    "b = float(input())\n",
    "\n",
    "sum_a = a+b\n",
    "div = a/b\n",
    "\n",
    "print('Sum=',sum_a)\n",
    "print('Division',div)\n",
    "\n",
    "#3. Write a Python program to find the area of a triangle?\n",
    "#Answer:\n",
    "\n",
    "base = float(input())\n",
    "height = float(input())\n",
    "\n",
    "area = 0.5* base*height\n",
    "\n",
    "print('Area of triangle = ', area)\n",
    "\n",
    "#4.Write a Python program to swap two variables?\n",
    "#Answer:\n",
    "\n",
    "a = float(input())\n",
    "b = float(input())\n",
    "\n",
    "print(\"Number before sawpping a = \",a,'b=',b)\n",
    "\n",
    "a = a+b\n",
    "b = a-b\n",
    "a = a-b\n",
    "\n",
    "print(\"Number after sawpping a = \",a,'b=',b)\n",
    "\n",
    "#5. Write a Python program to generate a random number?\n",
    "\n",
    "import random\n",
    "\n",
    "n1 = int(input())\n",
    "n2 = int(input())\n",
    "a = random.randrange(n1,n2)\n",
    "print(\"random_number = \",a)"
   ]
  }
 ],
 "metadata": {
  "kernelspec": {
   "display_name": "Python 3",
   "language": "python",
   "name": "python3"
  },
  "language_info": {
   "codemirror_mode": {
    "name": "ipython",
    "version": 3
   },
   "file_extension": ".py",
   "mimetype": "text/x-python",
   "name": "python",
   "nbconvert_exporter": "python",
   "pygments_lexer": "ipython3",
   "version": "3.8.8"
  }
 },
 "nbformat": 4,
 "nbformat_minor": 5
}
