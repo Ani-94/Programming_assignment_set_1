{
 "cells": [
  {
   "cell_type": "code",
   "execution_count": 4,
   "metadata": {
    "colab": {
     "base_uri": "https://localhost:8080/"
    },
    "executionInfo": {
     "elapsed": 5308,
     "status": "ok",
     "timestamp": 1658311482123,
     "user": {
      "displayName": "Anirudh .s.rao",
      "userId": "10732097124398023530"
     },
     "user_tz": -330
    },
    "id": "YGtsf5B8B40S",
    "outputId": "4defca23-332a-4c47-8dfe-2207ee881745"
   },
   "outputs": [
    {
     "name": "stdout",
     "output_type": "stream",
     "text": [
      "2\n",
      "3.2258064516129035\n"
     ]
    }
   ],
   "source": [
    "\n",
    "\n",
    "def km_miles(km):\n",
    " miles= (1/.62) * km\n",
    " return miles\n",
    "\n",
    "distance= int( input ())\n",
    "\n",
    "Miles= km_miles(distance)\n",
    "\n",
    "print (Miles)"
   ]
  },
  {
   "cell_type": "code",
   "execution_count": 5,
   "metadata": {
    "colab": {
     "base_uri": "https://localhost:8080/"
    },
    "executionInfo": {
     "elapsed": 9404,
     "status": "ok",
     "timestamp": 1658311692150,
     "user": {
      "displayName": "Anirudh .s.rao",
      "userId": "10732097124398023530"
     },
     "user_tz": -330
    },
    "id": "RCWFJcIqESIa",
    "outputId": "605c3ff5-48d1-4931-9e1f-c6846e3a471e"
   },
   "outputs": [
    {
     "name": "stdout",
     "output_type": "stream",
     "text": [
      "2\n",
      "7\n",
      "Number before swapping \n",
      "a: 2 b: 7\n",
      "Number after swapping \n",
      "a: 7 b: 2\n"
     ]
    }
   ],
   "source": [
    "a = int(input())\n",
    "b = int(input ())\n",
    "print ('Number before swapping ')\n",
    "print ('a:',a,'b:',b)\n",
    "\n",
    "\n",
    "a = a+b\n",
    "\n",
    "b = a - b\n",
    "\n",
    "a = a - b\n",
    "print ('Number after swapping ')\n",
    "print ('a:',a,'b:',b)"
   ]
  },
  {
   "cell_type": "code",
   "execution_count": 6,
   "metadata": {
    "colab": {
     "base_uri": "https://localhost:8080/"
    },
    "executionInfo": {
     "elapsed": 5945,
     "status": "ok",
     "timestamp": 1658312026761,
     "user": {
      "displayName": "Anirudh .s.rao",
      "userId": "10732097124398023530"
     },
     "user_tz": -330
    },
    "id": "H5BMJsJnFFpS",
    "outputId": "4cb2a48b-9b39-464a-abc8-2e4e880be66c"
   },
   "outputs": [
    {
     "name": "stdout",
     "output_type": "stream",
     "text": [
      "278.9\n",
      "534.02\n"
     ]
    }
   ],
   "source": [
    "cel = float (input ())\n",
    "\n",
    "def cel_farhenheit(cel):\n",
    " F = 1.8 * cel + 32\n",
    " return F\n",
    "\n",
    "farhenheit = cel_farhenheit(cel)\n",
    "\n",
    "print (farhenheit)"
   ]
  },
  {
   "cell_type": "code",
   "execution_count": 1,
   "metadata": {
    "id": "bSgE9q_ZGXF-"
   },
   "outputs": [
    {
     "name": "stdout",
     "output_type": "stream",
     "text": [
      "     July 2022\n",
      "Mo Tu We Th Fr Sa Su\n",
      "             1  2  3\n",
      " 4  5  6  7  8  9 10\n",
      "11 12 13 14 15 16 17\n",
      "18 19 20 21 22 23 24\n",
      "25 26 27 28 29 30 31\n",
      "\n"
     ]
    }
   ],
   "source": [
    "import calendar\n",
    "\n",
    "y = 2022\n",
    "m = 7\n",
    "\n",
    "print(calendar.month(y,m))"
   ]
  },
  {
   "cell_type": "code",
   "execution_count": 12,
   "metadata": {},
   "outputs": [
    {
     "name": "stdout",
     "output_type": "stream",
     "text": [
      "5\n",
      "6\n",
      "3\n",
      "The quadratic equation is  5 X^2+ 6 x+ 3\n",
      "The solution for the quadratic equation of  5 X^2+ 6 x+ 3 are complex numbers and are as follows\n",
      "Root 1: -0.6 +i 0.4898979485566356\n",
      "Root 2: -0.6 -i 0.4898979485566356\n"
     ]
    }
   ],
   "source": [
    "from math import sqrt as sq\n",
    "\n",
    "\n",
    "def soln(a,b,c):\n",
    "    if (b**2)-(4*a*c)>= 0:\n",
    "        sol1 = -(b-sq((b**2)-(4*a*c)))/(2*a)\n",
    "        sol2 = -(b+sq((b**2)-(4*a*c)))/(2*a)\n",
    "        print('The solution for the quadratic equation of ',a,'X^2+',b,'x+',c, 'is ',sol1,sol2)\n",
    "    \n",
    "    else:\n",
    "        real = -(b/(2*a))\n",
    "        imag = (sq(abs((b**2)-(4*a*c))))/(2*a)\n",
    "        print('The solution for the quadratic equation of ',a,'X^2+',b,'x+',c, 'are complex numbers and are as follows')\n",
    "        print('Root 1:',real,'+i',imag)\n",
    "        print('Root 2:',real,'-i',imag)\n",
    "    \n",
    "a = int(input())\n",
    "b = int(input())\n",
    "c = int(input())\n",
    "print('The quadratic equation is ',a,'X^2+',b,'x+',c)\n",
    "\n",
    "soln(a,b,c)"
   ]
  }
 ],
 "metadata": {
  "colab": {
   "authorship_tag": "ABX9TyMUUAYjx0MZe0X8VlSS0U+9",
   "name": "Program _1_2.ipynb",
   "provenance": []
  },
  "kernelspec": {
   "display_name": "Python 3",
   "language": "python",
   "name": "python3"
  },
  "language_info": {
   "codemirror_mode": {
    "name": "ipython",
    "version": 3
   },
   "file_extension": ".py",
   "mimetype": "text/x-python",
   "name": "python",
   "nbconvert_exporter": "python",
   "pygments_lexer": "ipython3",
   "version": "3.8.8"
  }
 },
 "nbformat": 4,
 "nbformat_minor": 1
}
