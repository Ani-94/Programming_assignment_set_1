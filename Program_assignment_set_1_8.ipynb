{
 "cells": [
  {
   "cell_type": "code",
   "execution_count": 15,
   "id": "d73019fa",
   "metadata": {},
   "outputs": [
    {
     "name": "stdout",
     "output_type": "stream",
     "text": [
      "[[ 2.  4.  6.]\n",
      " [ 8. 10. 12.]\n",
      " [14. 16. 18.]]\n"
     ]
    }
   ],
   "source": [
    "#1. Write a Python Program to Add Two Matrices?\n",
    "import numpy as np\n",
    "a = [[1,2,3],\n",
    "    [4,5,6,],\n",
    "    [7,8,9,]]\n",
    "b = [[1,2,3],\n",
    "    [4,5,6,],\n",
    "    [7,8,9,]]\n",
    "sum_m = np.empty((3,3))\n",
    "for i in range(len(a)):\n",
    "    for j in range(len(a[0])):\n",
    "        sum_m[i][j] = a[i][j]+b[i][j]\n",
    "\n",
    "print(sum_m)"
   ]
  },
  {
   "cell_type": "code",
   "execution_count": 17,
   "id": "c6b3c86b",
   "metadata": {},
   "outputs": [
    {
     "name": "stdout",
     "output_type": "stream",
     "text": [
      "[[ 30.  30.  30.]\n",
      " [ 81.  81.  81.]\n",
      " [150. 150. 150.]]\n"
     ]
    }
   ],
   "source": [
    "\n",
    "#2. Write a Python Program to Multiply Two Matrices?\n",
    "\n",
    "Umul  =  np.zeros((3,3))\n",
    "\n",
    "for i in range(len(a)):\n",
    "    for j in range(len(a[0])):\n",
    "        for k in range(len(b)):\n",
    "            Umul[i][j] += a[i][k]*b[k][i]\n",
    "\n",
    "print(Umul)"
   ]
  },
  {
   "cell_type": "code",
   "execution_count": 21,
   "id": "40eea374",
   "metadata": {},
   "outputs": [
    {
     "data": {
      "text/plain": [
       "array([[1., 4., 7.],\n",
       "       [2., 5., 8.],\n",
       "       [3., 6., 9.]])"
      ]
     },
     "execution_count": 21,
     "metadata": {},
     "output_type": "execute_result"
    }
   ],
   "source": [
    "\n",
    "#3. Write a Python Program to Transpose a Matrix?\n",
    "b = np.empty((3,3))\n",
    "def trans(A):\n",
    "    for i in range(len(a)):\n",
    "        for j in range(len(a[0])):\n",
    "            b[i][j] = A[j][i]\n",
    "    return b\n",
    "\n",
    "\n",
    "\n",
    "trans(a)\n"
   ]
  },
  {
   "cell_type": "code",
   "execution_count": 25,
   "id": "b76f3851",
   "metadata": {},
   "outputs": [
    {
     "name": "stdout",
     "output_type": "stream",
     "text": [
      "input a string\n",
      "hi how are you\n",
      " are hi how you\n"
     ]
    }
   ],
   "source": [
    "\n",
    "#4. Write a Python Program to Sort Words in Alphabetic Order?\n",
    "\n",
    "print('input a string')\n",
    "\n",
    "A  = str(input())\n",
    "\n",
    "b = A.split()\n",
    "\n",
    "a=''\n",
    "\n",
    "b.sort()\n",
    "\n",
    "for word in b:\n",
    "    a = a+\" \"+ word\n",
    "\n",
    "print(a)\n"
   ]
  },
  {
   "cell_type": "code",
   "execution_count": 27,
   "id": "d54fd9a9",
   "metadata": {},
   "outputs": [
    {
     "name": "stdout",
     "output_type": "stream",
     "text": [
      "input a string\n",
      "hi ! HOW ARE YP=OU?\n",
      "hi  HOW ARE YPOU\n"
     ]
    }
   ],
   "source": [
    "\n",
    "#5. Write a Python Program to Remove Punctuation From a String?\n",
    "\n",
    "import re\n",
    "\n",
    "print('input a string')\n",
    "\n",
    "A  = str(input())\n",
    "\n",
    "b = re.sub(r'[^\\w\\s]','',A)\n",
    "\n",
    "print(b)\n",
    "\n",
    "\n",
    "\n"
   ]
  }
 ],
 "metadata": {
  "kernelspec": {
   "display_name": "Python 3",
   "language": "python",
   "name": "python3"
  },
  "language_info": {
   "codemirror_mode": {
    "name": "ipython",
    "version": 3
   },
   "file_extension": ".py",
   "mimetype": "text/x-python",
   "name": "python",
   "nbconvert_exporter": "python",
   "pygments_lexer": "ipython3",
   "version": "3.8.8"
  }
 },
 "nbformat": 4,
 "nbformat_minor": 5
}
