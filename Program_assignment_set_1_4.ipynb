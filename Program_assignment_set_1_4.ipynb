{
 "cells": [
  {
   "cell_type": "code",
   "execution_count": 1,
   "id": "3ac208e6",
   "metadata": {},
   "outputs": [
    {
     "name": "stdout",
     "output_type": "stream",
     "text": [
      "5\n"
     ]
    },
    {
     "data": {
      "text/plain": [
       "120"
      ]
     },
     "execution_count": 1,
     "metadata": {},
     "output_type": "execute_result"
    }
   ],
   "source": [
    "#1.Write a Python Program to Find the Factorial of a Number?\n",
    "\n",
    "N = int(input())\n",
    "\n",
    "def fact(n):\n",
    "    fact = 1\n",
    "    for i in range(1,n+1):\n",
    "        fact= i*fact\n",
    "    return fact\n",
    "\n",
    "fact(N)\n"
   ]
  },
  {
   "cell_type": "code",
   "execution_count": 2,
   "id": "6d5a2268",
   "metadata": {},
   "outputs": [
    {
     "name": "stdout",
     "output_type": "stream",
     "text": [
      "5\n",
      "5 * 1 = 5\n",
      "5 * 2 = 10\n",
      "5 * 3 = 15\n",
      "5 * 4 = 20\n",
      "5 * 5 = 25\n",
      "5 * 6 = 30\n",
      "5 * 7 = 35\n",
      "5 * 8 = 40\n",
      "5 * 9 = 45\n",
      "5 * 10 = 50\n"
     ]
    }
   ],
   "source": [
    "\n",
    "#2.Write a Python Program to Display the multiplication Table?\n",
    "\n",
    "N = int(input())\n",
    "\n",
    "def mt(n):\n",
    "\ti= 1\n",
    "\twhile i<=10:\n",
    "\t\tprint(n,\"*\",i,\"=\",n*i)\n",
    "\t\ti+=1\n",
    "mt(N)\n"
   ]
  },
  {
   "cell_type": "code",
   "execution_count": 3,
   "id": "9801bb3c",
   "metadata": {},
   "outputs": [
    {
     "name": "stdout",
     "output_type": "stream",
     "text": [
      "5\n",
      "0\n",
      "1\n",
      "1\n",
      "2\n",
      "3\n",
      "5\n",
      "8\n"
     ]
    }
   ],
   "source": [
    "#3.Write a Python Program to Print the Fibonacci sequence?\n",
    "\n",
    "I1 = 0\n",
    "i2  = 1\n",
    "n = int(input())\n",
    "def fib(i,j,n):\n",
    "    print(i)\n",
    "    print(j)\n",
    "    c= 0\n",
    "    while c<n:\n",
    "        l = i+j\n",
    "        print(l)\n",
    "        i = j\n",
    "        j = l\n",
    "        c+=1\n",
    "        \n",
    "\n",
    "\n",
    "        \n",
    "fib(I1,i2,n)\n"
   ]
  },
  {
   "cell_type": "code",
   "execution_count": 4,
   "id": "8639836b",
   "metadata": {},
   "outputs": [
    {
     "name": "stdout",
     "output_type": "stream",
     "text": [
      "5\n",
      "Armstrong number\n"
     ]
    }
   ],
   "source": [
    "#4.Write a Python Program to Check Armstrong Number?\n",
    "\n",
    "N =input()\n",
    "\n",
    "\n",
    "def arm(n):\n",
    "    l= len(n)\n",
    "    s = 0\n",
    "    n = n\n",
    "    for i in n:\n",
    "        j = int(i)\n",
    "        s = s+ (j**l)\n",
    "    if s == int(n):\n",
    "        print(\"Armstrong number\")\n",
    "    else:\n",
    "        print(\"Not an Armstrong number\")\n",
    "\n",
    "arm(N)"
   ]
  },
  {
   "cell_type": "code",
   "execution_count": null,
   "id": "dc45fe72",
   "metadata": {},
   "outputs": [
    {
     "name": "stdout",
     "output_type": "stream",
     "text": [
      "369\n",
      "375\n",
      "369\n",
      "<class 'int'>\n"
     ]
    }
   ],
   "source": [
    "#5.Write a Python Program to Find Armstrong Number in an Interval?\n",
    "\n",
    "N1 = input()\n",
    "n2 = input()\n",
    "\n",
    "def c(n):\n",
    "    co = 0\n",
    "    while n!=0:\n",
    "        n = n//10\n",
    "        co+=1\n",
    "    return co\n",
    "\n",
    "def arm_ran(n1,n2):\n",
    "    i1 = int(n1)\n",
    "    i2 = int(n2)\n",
    "    for i in range(i1,i2+1):\n",
    "        print(i)\n",
    "        print(type(i))\n",
    "        l = c(i)\n",
    "        d = 1\n",
    "        s = 0\n",
    "        while d != 0:\n",
    "            d = i%10\n",
    "            s = s+(d**l)\n",
    "            if s == i:\n",
    "                print(s)\n",
    "\n",
    "arm_ran(N1,n2)\n",
    "\n"
   ]
  },
  {
   "cell_type": "code",
   "execution_count": 10,
   "id": "12638d98",
   "metadata": {},
   "outputs": [
    {
     "name": "stdout",
     "output_type": "stream",
     "text": [
      "6\n",
      "sum of 6 natural numbers is =  21\n"
     ]
    }
   ],
   "source": [
    "\n",
    "#6.Write a Python Program to Find the Sum of Natural Numbers?\n",
    "\n",
    "\n",
    "N = int(input())\n",
    "\n",
    "def sum_nat(n):\n",
    "\t\n",
    "\ts = 0\n",
    "\tfor i in range(1,n+1):\n",
    "\t\ts +=i\n",
    "\tprint('sum of',n,'natural numbers is = ',s)\n",
    "sum_nat(N)\n"
   ]
  }
 ],
 "metadata": {
  "kernelspec": {
   "display_name": "Python 3",
   "language": "python",
   "name": "python3"
  },
  "language_info": {
   "codemirror_mode": {
    "name": "ipython",
    "version": 3
   },
   "file_extension": ".py",
   "mimetype": "text/x-python",
   "name": "python",
   "nbconvert_exporter": "python",
   "pygments_lexer": "ipython3",
   "version": "3.8.8"
  }
 },
 "nbformat": 4,
 "nbformat_minor": 5
}
